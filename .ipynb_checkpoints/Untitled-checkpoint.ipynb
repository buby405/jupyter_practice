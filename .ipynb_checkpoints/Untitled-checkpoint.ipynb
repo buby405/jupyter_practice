{
 "cells": [
  {
   "cell_type": "markdown",
   "metadata": {},
   "source": [
    "## 数式の表示\n",
    "\n",
    "このコードセルでは、次のように数式を表現できます。\n",
    "\n",
    "\\begin{align}\n",
    "\\sqrt{2x-1} + (3+x)^3\n",
    "\\end{align}\n",
    "               \n",
    "$$E = mc^2$$\n",
    "\n",
    "インラインでも右記のように$\\sqrt{a^2 + b^2}$ 記述できます。"
   ]
  },
  {
   "cell_type": "markdown",
   "metadata": {},
   "source": []
  }
 ],
 "metadata": {
  "kernelspec": {
   "display_name": "Python 3",
   "language": "python",
   "name": "python3"
  },
  "language_info": {
   "codemirror_mode": {
    "name": "ipython",
    "version": 3
   },
   "file_extension": ".py",
   "mimetype": "text/x-python",
   "name": "python",
   "nbconvert_exporter": "python",
   "pygments_lexer": "ipython3",
   "version": "3.7.7"
  }
 },
 "nbformat": 4,
 "nbformat_minor": 4
}
