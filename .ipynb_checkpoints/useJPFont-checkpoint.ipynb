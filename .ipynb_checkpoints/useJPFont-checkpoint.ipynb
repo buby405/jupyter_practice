{
 "cells": [
  {
   "cell_type": "code",
   "execution_count": 1,
   "metadata": {},
   "outputs": [
    {
     "name": "stdout",
     "output_type": "stream",
     "text": [
      "AAA:C:\\Users\\buby405\\AppData\\Local\\Microsoft\\Windows\\Fonts\n",
      "BBB:C:\\Users\\buby405\\AppData\\Local\\Microsoft\\Windows\\Fonts\\SourceHanCodeJP-Regular.otf\n"
     ]
    },
    {
     "data": {
      "image/png": "[encoded data removed]",
      "text/plain": [
       "<Figure size 432x288 with 1 Axes>"
      ]
     },
     "metadata": {
      "needs_background": "light"
     },
     "output_type": "display_data"
    }
   ],
   "source": [
    "import os\n",
    "import numpy as np\n",
    "from matplotlib import pyplot as plt,font_manager\n",
    "\n",
    "# フォントキャッシュを再構築します。\n",
    "font_manager._rebuild()\n",
    "if os.name == 'nt':\n",
    "    # OSがWIndowsの場合、win32FontDirectory()が利用できます\n",
    "#     font_dir = font_manager.win32FontDirectory()\n",
    "    font_dir = 'C:\\\\Users\\\\buby405\\\\AppData\\Local\\\\Microsoft\\\\Windows\\\\Fonts'\n",
    "else:\n",
    "    # OSがmacOSの場合はディレクトリを指定してください。\n",
    "    # パスに含まれるユーザ名は環境に合わせて変更してください。\n",
    "    font_dir = '/Users/pydata/Library/Fonts'\n",
    "\n",
    "print('AAA:' + font_dir)\n",
    "font_path = os.path.join(font_dir,'SourceHanCodeJP-Regular.otf')\n",
    "print('BBB:' + font_path)\n",
    "font = font_manager.FontProperties(fname=font_path,size=14)\n",
    "\n",
    "# グラフを描画します\n",
    "np.random.seed(0)\n",
    "x = range(5)\n",
    "\n",
    "y = 10 + 5 * np.random.randn(5)\n",
    "fig = plt.figure()\n",
    "ax = fig.add_subplot(111)\n",
    "\n",
    "# ここでfontpropertiesを指定します。\n",
    "# ax.set_title('日本語を指定したタイトル',fontproperties=font)\n",
    "ax.set_title('日本語を指定したタイトル')#設定ファイルでデフォルトにしているため、指定なしでOK\n",
    "ax.bar(x,y)\n",
    "\n",
    "plt.show()\n",
    "\n"
   ]
  },
  {
   "cell_type": "code",
   "execution_count": null,
   "metadata": {},
   "outputs": [],
   "source": []
  },
  {
   "cell_type": "code",
   "execution_count": null,
   "metadata": {},
   "outputs": [],
   "source": []
  },
  {
   "cell_type": "code",
   "execution_count": null,
   "metadata": {},
   "outputs": [],
   "source": []
  }
 ],
 "metadata": {
  "kernelspec": {
   "display_name": "Python 3",
   "language": "python",
   "name": "python3"
  },
  "language_info": {
   "codemirror_mode": {
    "name": "ipython",
    "version": 3
   },
   "file_extension": ".py",
   "mimetype": "text/x-python",
   "name": "python",
   "nbconvert_exporter": "python",
   "pygments_lexer": "ipython3",
   "version": "3.7.7"
  }
 },
 "nbformat": 4,
 "nbformat_minor": 4
}
